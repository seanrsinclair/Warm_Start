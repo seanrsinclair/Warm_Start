{
 "cells": [
  {
   "cell_type": "code",
   "execution_count": 1,
   "metadata": {},
   "outputs": [],
   "source": [
    "import numpy as np\n",
    "import matplotlib.pyplot as plt\n",
    "import pandas as pd\n",
    "import seaborn as sns"
   ]
  },
  {
   "cell_type": "code",
   "execution_count": null,
   "metadata": {},
   "outputs": [],
   "source": [
    "# TODO: Online w/ no initialization\n",
    "# TODO: Average percentage of historical data that was used\n",
    "# TODO: N really large, alpha = 0, online (Christina) algorithm should try and sample suboptimal arm at least once? \n",
    "# which would penalize the regret - not showing up."
   ]
  },
  {
   "cell_type": "code",
   "execution_count": 63,
   "metadata": {},
   "outputs": [],
   "source": [
    "# initialize params\n",
    "seed = 294\n",
    "\n",
    "num_iters = 50\n",
    "T = 1000  # time horizon\n",
    "n = 200   # num historical samples\n",
    "delta = 0.1\n",
    "alpha = 0 # percentage of time to pull arm 0\n",
    "mean_arms = [.5, .5-delta]  # note: arm 0 always better\n",
    "n_arms = len(mean_arms)"
   ]
  },
  {
   "cell_type": "code",
   "execution_count": 64,
   "metadata": {},
   "outputs": [
    {
     "name": "stdout",
     "output_type": "stream",
     "text": [
      "----------------------------\n",
      "Stats from online algorithm\n",
      "  # pulls of each arm in historical data:     [  0 200]\n",
      "  Percentage of trials entire dataset used:   86.0\n",
      "  Average percentage of historical data used: 98.61\n"
     ]
    }
   ],
   "source": [
    "np.random.seed(seed)\n",
    "regret_data = []\n",
    "\n",
    "def generate_dataset(n, alpha):\n",
    "    \"\"\" generate historical samples \"\"\"\n",
    "    dataset = {'0': [], '1': []}\n",
    "    for _ in range(int(alpha*n)):\n",
    "        dataset['0'].append(np.random.binomial(p=mean_arms[0], n=1))\n",
    "    for _ in range(n - int(alpha*n)):\n",
    "        dataset['1'].append(np.random.binomial(p=mean_arms[1], n=1))\n",
    "    return dataset\n",
    "\n",
    "def conf_r(t, n_pulls):\n",
    "    \"\"\" compute confidence radius \"\"\"\n",
    "    return np.sqrt(2*np.log(1+t) / n_pulls)\n",
    "    \n",
    "online_use_all_data_count = 0.0\n",
    "online_data_use_percentage = []\n",
    "\n",
    "# simple algorithm (Thorsten 2012)\n",
    "# basic UCB: no historical data\n",
    "# online algorithm: Christina's\n",
    "\n",
    "for i in range(num_iters):\n",
    "    dataset = generate_dataset(n, alpha)\n",
    "#     print(f'Dataset: {dataset}')\n",
    "\n",
    "    # initialize counters\n",
    "    online_data_index   = np.asarray([0,0])\n",
    "    online_regret_index = 0\n",
    "    \n",
    "    regret = {}\n",
    "    mean   = {}\n",
    "    select = {}\n",
    "    \n",
    "    for algo in ['simple', 'no_history', 'online']:\n",
    "        regret[algo] = 0\n",
    "        mean[algo]   = np.asarray([0.0, 0.0])\n",
    "        select[algo] = np.asarray([0, 0])\n",
    "    \n",
    "    mean['simple']   = np.asarray([max(0.0, np.mean(dataset['0'])), max(0.0, np.mean(dataset['1']))])\n",
    "    select['simple'] = np.asarray([len(dataset['0']), len(dataset['1'])])\n",
    "#     print(f'Starting estimates, simple: {simple_mean}, {simple_select}')\n",
    "    \n",
    "    for t in range(T+n):\n",
    "        for algo in ['simple', 'no_history', 'online']:\n",
    "#             if algo in ['simple', 'no_history']:\n",
    "#                 if t >= T: continue\n",
    "#             elif algo == 'online':\n",
    "#                 if online_regret_index >= T: continue\n",
    "#             else: raise NotImplementedError\n",
    "                \n",
    "            \n",
    "            # -----------------------------------\n",
    "            # pick arm to pull\n",
    "            # -----------------------------------\n",
    "            if algo == 'online':\n",
    "                ucb = np.asarray([mean[algo][arm] + conf_r(online_regret_index+1, select[algo][arm]) \\\n",
    "                                  if select[algo][arm] > 0 else np.inf for arm in range(n_arms)])\n",
    "            else:\n",
    "                # note that simple and no_history are identical except for initialization of 'mean' and 'select'\n",
    "                ucb = np.asarray([mean[algo][arm] + conf_r(t, select[algo][arm]) \\\n",
    "                                  if select[algo][arm] > 0 else np.inf for arm in range(n_arms)])\n",
    "                \n",
    "            arm = np.argmax(ucb)\n",
    "            select[algo][arm] += 1\n",
    "            \n",
    "            if algo == 'online':\n",
    "                # if we haven't used all offline samples of the chosen arm\n",
    "                if online_data_index[arm] < len(dataset[str(arm)]):\n",
    "                    obs = dataset[str(arm)][online_data_index[arm]]\n",
    "                    mean[algo][arm] = (mean[algo][arm] * select[algo][arm] + obs) / (select[algo][arm]+1)\n",
    "                    online_data_index[arm] += 1\n",
    "                    continue\n",
    "                # if we HAVE used all offline samples of the chosen arm\n",
    "                else:\n",
    "                    online_regret_index += 1\n",
    "            \n",
    "            # -----------------------------------\n",
    "            # get observation and record\n",
    "            # -----------------------------------\n",
    "            regret[algo] += mean_arms[0] - mean_arms[arm]\n",
    "            regret_data.append({'Algo': algo, 'Iter': i, 't': t, 'Regret': regret[algo]})\n",
    "            obs = np.random.binomial(p=mean_arms[arm], n=1)\n",
    "            mean[algo][arm] = (mean[algo][arm]*select[algo][arm] + obs) / (select[algo][arm]+1)\n",
    "\n",
    "            \n",
    "    # meta trackers on behavior of online algorithm\n",
    "    if online_data_index[0] == len(dataset['0']) and online_data_index[1] == len(dataset['1']):\n",
    "        online_use_all_data_count += 1\n",
    "    \n",
    "    online_data_use_percentage.append((online_data_index[0] + online_data_index[1]) / n)\n",
    "\n",
    "print('----------------------------')\n",
    "print('Stats from online algorithm')\n",
    "print(f'  # pulls of each arm in historical data:     {online_data_index}')\n",
    "print(f'  Percentage of trials entire dataset used:   {100 * online_use_all_data_count / num_iters}')\n",
    "print(f'  Average percentage of historical data used: {100*np.mean(online_data_use_percentage):.2f}')"
   ]
  },
  {
   "cell_type": "code",
   "execution_count": 60,
   "metadata": {},
   "outputs": [
    {
     "data": {
      "text/plain": [
       "Text(0.5, 1.0, 'n = 200, delta = 0.1, alpha = 1')"
      ]
     },
     "execution_count": 60,
     "metadata": {},
     "output_type": "execute_result"
    },
    {
     "data": {
      "image/png": "[encoded data removed]",
      "text/plain": [
       "<Figure size 432x288 with 1 Axes>"
      ]
     },
     "metadata": {
      "needs_background": "light"
     },
     "output_type": "display_data"
    }
   ],
   "source": [
    "df = pd.DataFrame(regret_data)\n",
    "\n",
    "p = sns.lineplot(data = df, x=\"t\", y=\"Regret\", hue=\"Algo\", ci=None) #, ci=\"sd\")\n",
    "p.set_title(f\"n = {n}, delta = {delta}, alpha = {alpha}\") \n"
   ]
  },
  {
   "cell_type": "code",
   "execution_count": null,
   "metadata": {},
   "outputs": [],
   "source": []
  }
 ],
 "metadata": {
  "kernelspec": {
   "display_name": "Python 3",
   "language": "python",
   "name": "python3"
  },
  "language_info": {
   "codemirror_mode": {
    "name": "ipython",
    "version": 3
   },
   "file_extension": ".py",
   "mimetype": "text/x-python",
   "name": "python",
   "nbconvert_exporter": "python",
   "pygments_lexer": "ipython3",
   "version": "3.7.4"
  }
 },
 "nbformat": 4,
 "nbformat_minor": 5
}
