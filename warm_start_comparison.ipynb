{
 "cells": [
  {
   "cell_type": "code",
   "execution_count": 1,
   "id": "c68089fd",
   "metadata": {},
   "outputs": [],
   "source": [
    "import numpy as np\n",
    "import matplotlib.pyplot as plt\n",
    "import pandas as pd\n",
    "import seaborn as sns"
   ]
  },
  {
   "cell_type": "code",
   "execution_count": 2,
   "id": "2cdd9a1e",
   "metadata": {},
   "outputs": [],
   "source": [
    "def generate_dataset(n, alpha):\n",
    "    dataset = {'0': [], '1': []}\n",
    "    for _ in range(int(alpha*n)):\n",
    "        dataset['0'].append(np.random.binomial(p=mean_arms[0], n=1))\n",
    "    for _ in range(n - int(alpha*n)):\n",
    "        dataset['1'].append(np.random.binomial(p=mean_arms[1], n=1))\n",
    "    return dataset"
   ]
  },
  {
   "cell_type": "code",
   "execution_count": 4,
   "id": "a2f16d47",
   "metadata": {},
   "outputs": [],
   "source": [
    "regret_data = []\n",
    "num_iters = 100\n",
    "T = 1000\n",
    "n = 200\n",
    "delta = .1\n",
    "alpha = .5\n",
    "mean_arms = [.5, .5-delta]\n",
    "\n",
    "for i in range(num_iters):\n",
    "    dataset = generate_dataset(n, alpha)\n",
    "    simple_mean = np.asarray([max(0.0,np.mean(dataset['0'])), max(0.0,np.mean(dataset['1']))])\n",
    "    simple_select = np.asarray([len(dataset['0']), len(dataset['1'])])\n",
    "    \n",
    "    online_mean = np.asarray([0.0,0.0])\n",
    "    online_select = np.asarray([0,0])\n",
    "    online_data_index = np.asarray([0,0])\n",
    "    online_regret_index = 0\n",
    "    simple_regret = 0\n",
    "    online_regret = 0\n",
    "    \n",
    "    for t in range(T):\n",
    "        \n",
    "        simple_ucb = np.asarray([simple_mean[i] + (1 / np.sqrt(simple_select[i])) \\\n",
    "                                     if simple_select[i] > 0 else np.inf for i in range(2)])\n",
    "        simple_arm = np.argmax(simple_ucb)\n",
    "        simple_regret += mean_arms[0] - mean_arms[simple_arm]\n",
    "        regret_data.append({'Algo': 'Simple', 'Iter': i, 't': t, 'Regret': simple_regret})\n",
    "        simple_obs = np.random.binomial(p=mean_arms[simple_arm], n = 1)\n",
    "        simple_mean[simple_arm] = (simple_mean[simple_arm]*simple_select[simple_arm] + simple_obs) / (simple_select[simple_arm]+1)\n",
    "        simple_select[simple_arm] += 1\n",
    "        \n",
    "        \n",
    "        \n",
    "        online_ucb = np.asarray([online_mean[i] + (1 / np.sqrt(online_select[i])) \\\n",
    "                                    if online_select[i] > 0 else np.inf for i in range(2)])\n",
    "        online_arm = np.argmax(online_ucb)\n",
    "        if online_data_index[online_arm] < len(dataset[str(online_arm)]):\n",
    "            online_obs = dataset[str(online_arm)][online_data_index[online_arm]]\n",
    "            online_mean[online_arm] = (online_select[online_arm]*online_mean[online_arm] + online_obs) / (online_select[online_arm]+1)\n",
    "            online_select[online_arm] += 1\n",
    "            online_data_index[online_arm] += 1\n",
    "        \n",
    "        else:\n",
    "            online_obs = np.random.binomial(p=mean_arms[simple_arm], n = 1)\n",
    "            online_regret += mean_arms[0] - mean_arms[simple_arm]\n",
    "            regret_data.append({'Algo': 'Online', 'Iter': i, 't': online_regret_index, 'Regret': online_regret})\n",
    "            \n",
    "            online_mean[online_arm] = (online_select[online_arm]*online_mean[online_arm] + online_obs) / online_select[online_arm]\n",
    "            online_select[online_arm] += 1\n",
    "            online_regret_index += 1\n"
   ]
  },
  {
   "cell_type": "code",
   "execution_count": 5,
   "id": "e62a1791",
   "metadata": {},
   "outputs": [
    {
     "data": {
      "text/plain": [
       "<AxesSubplot:xlabel='t', ylabel='Regret'>"
      ]
     },
     "execution_count": 5,
     "metadata": {},
     "output_type": "execute_result"
    },
    {
     "data": {
      "image/png": "[encoded data removed]",
      "text/plain": [
       "<Figure size 432x288 with 1 Axes>"
      ]
     },
     "metadata": {
      "needs_background": "light"
     },
     "output_type": "display_data"
    }
   ],
   "source": [
    "df = pd.DataFrame(regret_data)\n",
    "sns.lineplot(data = df, x=\"t\", y=\"Regret\", hue=\"Algo\", ci=None)"
   ]
  },
  {
   "cell_type": "code",
   "execution_count": null,
   "id": "ea76d0b3",
   "metadata": {},
   "outputs": [],
   "source": []
  }
 ],
 "metadata": {
  "kernelspec": {
   "display_name": "Python 3 (ipykernel)",
   "language": "python",
   "name": "python3"
  },
  "language_info": {
   "codemirror_mode": {
    "name": "ipython",
    "version": 3
   },
   "file_extension": ".py",
   "mimetype": "text/x-python",
   "name": "python",
   "nbconvert_exporter": "python",
   "pygments_lexer": "ipython3",
   "version": "3.8.12"
  }
 },
 "nbformat": 4,
 "nbformat_minor": 5
}
