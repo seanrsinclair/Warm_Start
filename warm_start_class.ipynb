{
 "cells": [
  {
   "cell_type": "code",
   "execution_count": 1,
   "id": "c68089fd",
   "metadata": {},
   "outputs": [],
   "source": [
    "import numpy as np\n",
    "import matplotlib.pyplot as plt\n",
    "import pandas as pd\n",
    "import seaborn as sns\n",
    "\n",
    "from algorithms import historical_ucb, ignorant_ucb"
   ]
  },
  {
   "cell_type": "code",
   "execution_count": 5,
   "id": "2cdd9a1e",
   "metadata": {},
   "outputs": [],
   "source": [
    "algo_list = {'HistoricalUCB', 'IgnorantUCB'}"
   ]
  },
  {
   "cell_type": "code",
   "execution_count": 3,
   "id": "a2f16d47",
   "metadata": {},
   "outputs": [
    {
     "name": "stdout",
     "output_type": "stream",
     "text": [
      "Percentage of trial online algorithm uses entire dataset: 0.0\n",
      "Percentage of data used: 0.275\n"
     ]
    },
    {
     "name": "stderr",
     "output_type": "stream",
     "text": [
      "/home/sean/anaconda3/envs/warm_start/lib/python3.8/site-packages/numpy/core/fromnumeric.py:3440: RuntimeWarning: Mean of empty slice.\n",
      "  return _methods._mean(a, axis=axis, dtype=dtype,\n",
      "/home/sean/anaconda3/envs/warm_start/lib/python3.8/site-packages/numpy/core/_methods.py:189: RuntimeWarning: invalid value encountered in double_scalars\n",
      "  ret = ret.dtype.type(ret / rcount)\n"
     ]
    }
   ],
   "source": [
    "np.random.seed(294)\n",
    "regret_data = []\n",
    "num_iters = 2\n",
    "T = 200\n",
    "n = 200\n",
    "delta = 0.1\n",
    "alpha = 0 # percentage of data coming from optimal arm\n",
    "mean_arms = [.5, .5-delta]\n",
    "\n",
    "def generate_dataset(n, alpha):\n",
    "    dataset = {'0': [], '1': []}\n",
    "    for _ in range(int(alpha*n)):\n",
    "        dataset['0'].append(np.random.binomial(p=mean_arms[0], n=1))\n",
    "    for _ in range(n - int(alpha*n)):\n",
    "        dataset['1'].append(np.random.binomial(p=mean_arms[1], n=1))\n",
    "    return dataset\n",
    "\n",
    "simple_done = False\n",
    "online_done = False\n",
    "\n",
    "online_use_all_data_count = 0.0\n",
    "online_percentage_data_use = 0.0\n",
    "\n",
    "for i in range(num_iters):\n",
    "    dataset = generate_dataset(n, alpha)\n",
    "#     print(f'Dataset: {dataset}')\n",
    "    simple_mean = np.asarray([max(0.0,np.mean(dataset['0'])), max(0.0,np.mean(dataset['1']))])\n",
    "    simple_select = np.asarray([len(dataset['0']), len(dataset['1'])])\n",
    "#     print(f'Starting estimates, simple: {simple_mean}, {simple_select}')\n",
    "    online_mean = np.asarray([0.0,0.0])\n",
    "    online_select = np.asarray([0,0])\n",
    "    online_data_index = np.asarray([0,0])\n",
    "    online_regret_index = 0\n",
    "    simple_regret = 0\n",
    "    online_regret = 0\n",
    "    \n",
    "    for t in range(T+n):\n",
    "        \n",
    "        if not simple_done:\n",
    "            simple_ucb = np.asarray([simple_mean[i] + (np.sqrt(2*np.log(1+t) / simple_select[i])) \\\n",
    "                                         if simple_select[i] > 0 else np.inf for i in range(2)])\n",
    "            # print(f'Simple UCB: {simple_ucb}')\n",
    "            simple_arm = np.argmax(simple_ucb)\n",
    "            simple_regret += mean_arms[0] - mean_arms[simple_arm]\n",
    "            regret_data.append({'Algo': 'Simple', 'Iter': i, 't': t, 'Regret': simple_regret})\n",
    "            simple_obs = np.random.binomial(p=mean_arms[simple_arm], n = 1)\n",
    "            simple_mean[simple_arm] = (simple_mean[simple_arm]*simple_select[simple_arm] + simple_obs) / (simple_select[simple_arm]+1)\n",
    "            simple_select[simple_arm] += 1\n",
    "            \n",
    "            if t == T - 1:\n",
    "                simple_done = True\n",
    "\n",
    "        if not online_done:\n",
    "            online_ucb = np.asarray([online_mean[i] + (np.sqrt(2*np.log(online_regret_index+1) / online_select[i])) \\\n",
    "                                        if online_select[i] > 0 else np.inf for i in range(2)])\n",
    "            online_arm = np.argmax(online_ucb)\n",
    "            # print(f'Online UCB: {online_ucb}, selected arm: {online_arm}')\n",
    "            if online_data_index[online_arm] < len(dataset[str(online_arm)]):\n",
    "                # print(f'Found in dataset')\n",
    "                online_obs = dataset[str(online_arm)][online_data_index[online_arm]]\n",
    "                online_mean[online_arm] = (online_select[online_arm]*online_mean[online_arm] + online_obs) / (online_select[online_arm]+1)\n",
    "                online_select[online_arm] += 1\n",
    "                online_data_index[online_arm] += 1\n",
    "\n",
    "            else:\n",
    "                # print(f'Not found in dataset')\n",
    "                online_obs = np.random.binomial(p=mean_arms[simple_arm], n = 1)\n",
    "                # print(f'Observation: {online_obs}')\n",
    "                online_regret += mean_arms[0] - mean_arms[simple_arm]\n",
    "                regret_data.append({'Algo': 'Online', 'Iter': i, 't': online_regret_index, 'Regret': online_regret})\n",
    "\n",
    "                online_mean[online_arm] = (online_select[online_arm]*online_mean[online_arm] + online_obs) / (online_select[online_arm]+1)\n",
    "                online_select[online_arm] += 1\n",
    "                online_regret_index += 1\n",
    "                \n",
    "                if online_regret_index == T - 1:\n",
    "                    online_done = True\n",
    "            \n",
    "    if online_data_index[0] == len(dataset['0']) and online_data_index[1] == len(dataset['1']):\n",
    "        online_use_all_data_count += 1\n",
    "    online_percentage_data_use += (1/num_iters)*(np.sum(online_data_index) / n)\n",
    "print(f'Percentage of trial online algorithm uses entire dataset: {online_use_all_data_count / num_iters}')\n",
    "print(f'Percentage of data used: {online_percentage_data_use}')"
   ]
  },
  {
   "cell_type": "code",
   "execution_count": 4,
   "id": "e62a1791",
   "metadata": {},
   "outputs": [
    {
     "data": {
      "text/plain": [
       "<AxesSubplot:xlabel='t', ylabel='Regret'>"
      ]
     },
     "execution_count": 4,
     "metadata": {},
     "output_type": "execute_result"
    },
    {
     "data": {
      "image/png": "[encoded data removed]",
      "text/plain": [
       "<Figure size 432x288 with 1 Axes>"
      ]
     },
     "metadata": {
      "needs_background": "light"
     },
     "output_type": "display_data"
    }
   ],
   "source": [
    "df = pd.DataFrame(regret_data)\n",
    "sns.lineplot(data = df, x=\"t\", y=\"Regret\", hue=\"Algo\", ci=None)"
   ]
  },
  {
   "cell_type": "code",
   "execution_count": null,
   "id": "ea76d0b3",
   "metadata": {},
   "outputs": [],
   "source": []
  }
 ],
 "metadata": {
  "kernelspec": {
   "display_name": "Python 3 (ipykernel)",
   "language": "python",
   "name": "python3"
  },
  "language_info": {
   "codemirror_mode": {
    "name": "ipython",
    "version": 3
   },
   "file_extension": ".py",
   "mimetype": "text/x-python",
   "name": "python",
   "nbconvert_exporter": "python",
   "pygments_lexer": "ipython3",
   "version": "3.8.12"
  }
 },
 "nbformat": 4,
 "nbformat_minor": 5
}
