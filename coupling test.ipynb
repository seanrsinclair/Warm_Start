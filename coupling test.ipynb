{
 "cells": [
  {
   "cell_type": "code",
   "execution_count": 50,
   "id": "4b387d59",
   "metadata": {},
   "outputs": [],
   "source": [
    "import numpy as np\n",
    "import matplotlib.pyplot as plt\n",
    "import pandas as pd\n",
    "import seaborn as sns"
   ]
  },
  {
   "cell_type": "code",
   "execution_count": 51,
   "id": "a7dcfed0",
   "metadata": {},
   "outputs": [],
   "source": [
    "# initialize params\n",
    "seed = 294\n",
    "\n",
    "num_iters = 1\n",
    "T = 5  # time horizon\n",
    "n = 2  # num historical samples\n",
    "delta = 0.3\n",
    "alpha = 0 # percentage of time to pull arm 0\n",
    "mean_arms = [.5, .5-delta]  # note: arm 0 always better\n",
    "n_arms = len(mean_arms)"
   ]
  },
  {
   "cell_type": "code",
   "execution_count": 53,
   "id": "2f638864",
   "metadata": {},
   "outputs": [
    {
     "name": "stdout",
     "output_type": "stream",
     "text": [
      "Dataset: {'0': [], '1': [0.2, 0.2]}\n",
      "Algo: simple, UCB: [       inf 1.03255461], arm: 0\n",
      "Algo: online, UCB: [inf inf], arm: 0\n",
      "Algo: simple, UCB: [1.73230381 1.24814707], arm: 0\n",
      "using historical data\n",
      "Algo: simple, UCB: [1.51074336 1.37741002], arm: 0\n",
      "Algo: online, UCB: [1.73230381 1.58230381], arm: 0\n",
      "Algo: simple, UCB: [1.41083715 1.46863624], arm: 1\n",
      "using historical data\n",
      "Algo: simple, UCB: [1.46793472 1.29293472], arm: 0\n",
      "Algo: online, UCB: [1.51074336 1.31074336], arm: 0\n",
      "Algo: online, UCB: [1.41083715 1.40196957], arm: 0\n",
      "Algo: online, UCB: [1.34650924 1.47189953], arm: 1\n",
      "----------------------------\n",
      "Stats from online algorithm\n",
      "  # pulls of each arm in historical data:     [0 2]\n",
      "  Percentage of trials entire dataset used:   100.0\n",
      "  Average percentage of historical data used: 100.00\n"
     ]
    }
   ],
   "source": [
    "np.random.seed(seed)\n",
    "regret_data = []\n",
    "\n",
    "def generate_dataset(n, alpha):\n",
    "    \"\"\" generate historical samples \"\"\"\n",
    "    dataset = {'0': [], '1': []}\n",
    "    for _ in range(int(alpha*n)):\n",
    "#         dataset['0'].append(np.random.binomial(p=mean_arms[0], n=1))\n",
    "        dataset['0'].append(mean_arms[0])\n",
    "    for _ in range(n - int(alpha*n)):\n",
    "#         dataset['1'].append(np.random.binomial(p=mean_arms[1], n=1))\n",
    "        dataset['1'].append(mean_arms[1])\n",
    "    return dataset\n",
    "\n",
    "def conf_r(t, n_pulls):\n",
    "    \"\"\" compute confidence radius \"\"\"\n",
    "    return np.sqrt(2*np.log(1+t) / n_pulls)\n",
    "#     return np.sqrt(2*np.log(1+T) / n_pulls)\n",
    "    \n",
    "\n",
    "online_use_all_data_count = 0.0\n",
    "online_data_use_percentage = []\n",
    "\n",
    "algo_list = ['simple', 'online']\n",
    "\n",
    "# simple algorithm (Thorsten 2012)\n",
    "# online algorithm: Christina's\n",
    "\n",
    "for i in range(num_iters):\n",
    "    \n",
    "    dataset = generate_dataset(n, alpha)\n",
    "    online_samples = generate_dataset(2*T, .5) # gets samples which are used for the \"online\" samples\n",
    "    print(f'Dataset: {dataset}')\n",
    "    # initialize counters\n",
    "    online_data_index   = np.asarray([0,0]) # index of wrapper algorithm in historical samples\n",
    "    online_regret_index = 0 # index of wrapper algorithm for using online samples\n",
    "    \n",
    "    regret = {}\n",
    "    mean   = {}\n",
    "    select = {}\n",
    "    algo_index = {'simple': [0,0], 'no_history': [0,0], 'online': [0,0]} # index of algorithms in online samples\n",
    "    \n",
    "    for algo in algo_list:\n",
    "        \n",
    "        regret[algo] = 0\n",
    "        mean[algo]   = np.asarray([0.0, 0.0])\n",
    "        select[algo] = np.asarray([0, 0])\n",
    "    \n",
    "        mean['simple']   = np.asarray([max(0.0, np.mean(dataset['0'])), max(0.0, np.mean(dataset['1']))])\n",
    "        select['simple'] = np.asarray([len(dataset['0']), len(dataset['1'])])\n",
    "    \n",
    "    for t in range(T+n):\n",
    "        for algo in algo_list:   \n",
    "            \n",
    "            if np.sum(algo_index[algo]) < T: # not finished yet in the experiment\n",
    "            \n",
    "            # -----------------------------------\n",
    "            # pick arm to pull\n",
    "            # -----------------------------------\n",
    "                ucb = np.asarray([mean[algo][arm] + conf_r(np.sum(algo_index[algo])+1, select[algo][arm]) \\\n",
    "                                      if select[algo][arm] > 0 else np.inf for arm in range(n_arms)])\n",
    "                arm = np.argmax(ucb)\n",
    "                if algo == 'simple':\n",
    "                    print(f'Algo: {algo}, UCB: {ucb}, arm: {arm}')\n",
    "                select[algo][arm] += 1\n",
    "\n",
    "                if algo == 'online':\n",
    "                    # if we haven't used all offline samples of the chosen arm\n",
    "                    if online_data_index[arm] < len(dataset[str(arm)]):\n",
    "                        print('using historical data')\n",
    "                        obs = dataset[str(arm)][online_data_index[arm]]\n",
    "                        mean[algo][arm] = (mean[algo][arm] * select[algo][arm] + obs) / (select[algo][arm]+1)\n",
    "                        online_data_index[arm] += 1\n",
    "                        continue\n",
    "                    # if we HAVE used all offline samples of the chosen arm\n",
    "                    else:\n",
    "                        online_regret_index += 1\n",
    "                        if algo == 'online': \n",
    "                            print(f'Algo: {algo}, UCB: {ucb}, arm: {arm}')\n",
    "\n",
    "                # -----------------------------------\n",
    "                # get observation and record\n",
    "                # -----------------------------------\n",
    "                regret[algo] += mean_arms[0] - mean_arms[arm]\n",
    "                regret_data.append({'Algo': algo, 'Iter': i, 't': np.sum(algo_index[algo]), 'Arm': arm, 'Regret': regret[algo]})\n",
    "                obs = online_samples[str(arm)][algo_index[algo][arm]]\n",
    "                algo_index[algo][arm] += 1\n",
    "                mean[algo][arm] = (mean[algo][arm]*select[algo][arm] + obs) / (select[algo][arm]+1)\n",
    "\n",
    "            \n",
    "    # meta trackers on behavior of online algorithm\n",
    "    if online_data_index[0] == len(dataset['0']) and online_data_index[1] == len(dataset['1']):\n",
    "        online_use_all_data_count += 1\n",
    "    \n",
    "    online_data_use_percentage.append((online_data_index[0] + online_data_index[1]) / n)\n",
    "\n",
    "print('----------------------------')\n",
    "print('Stats from online algorithm')\n",
    "print(f'  # pulls of each arm in historical data:     {online_data_index}')\n",
    "print(f'  Percentage of trials entire dataset used:   {100 * online_use_all_data_count / num_iters}')\n",
    "print(f'  Average percentage of historical data used: {100*np.mean(online_data_use_percentage):.2f}')"
   ]
  },
  {
   "cell_type": "code",
   "execution_count": null,
   "id": "cf4ea925",
   "metadata": {},
   "outputs": [],
   "source": []
  },
  {
   "cell_type": "code",
   "execution_count": 54,
   "id": "5ec93122",
   "metadata": {},
   "outputs": [
    {
     "name": "stdout",
     "output_type": "stream",
     "text": [
      "<bound method NDFrame.tail of      Algo  Iter  t  Arm  Regret\n",
      "0  simple     0  0    0     0.0\n",
      "1  online     0  0    0     0.0\n",
      "2  simple     0  1    0     0.0\n",
      "3  simple     0  2    0     0.0\n",
      "4  online     0  1    0     0.0\n",
      "5  simple     0  3    1     0.3\n",
      "6  simple     0  4    0     0.3\n",
      "7  online     0  2    0     0.0\n",
      "8  online     0  3    0     0.0\n",
      "9  online     0  4    1     0.3>\n"
     ]
    },
    {
     "data": {
      "text/plain": [
       "Text(0.5, 1.0, 'n = 2, delta = 0.3, alpha = 0')"
      ]
     },
     "execution_count": 54,
     "metadata": {},
     "output_type": "execute_result"
    },
    {
     "data": {
      "image/png": "[encoded data removed]",
      "text/plain": [
       "<Figure size 432x288 with 1 Axes>"
      ]
     },
     "metadata": {
      "needs_background": "light"
     },
     "output_type": "display_data"
    }
   ],
   "source": [
    "df = pd.DataFrame(regret_data)\n",
    "print(df.tail)\n",
    "p = sns.lineplot(data = df, x=\"t\", y=\"Regret\", hue=\"Algo\", ci=None) #, ci=\"sd\")\n",
    "p.set_title(f\"n = {n}, delta = {delta}, alpha = {alpha}\") \n"
   ]
  }
 ],
 "metadata": {
  "kernelspec": {
   "display_name": "Python 3 (ipykernel)",
   "language": "python",
   "name": "python3"
  },
  "language_info": {
   "codemirror_mode": {
    "name": "ipython",
    "version": 3
   },
   "file_extension": ".py",
   "mimetype": "text/x-python",
   "name": "python",
   "nbconvert_exporter": "python",
   "pygments_lexer": "ipython3",
   "version": "3.8.12"
  }
 },
 "nbformat": 4,
 "nbformat_minor": 5
}
