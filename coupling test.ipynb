{
 "cells": [
  {
   "cell_type": "code",
   "execution_count": 1,
   "id": "4fcdf3a1",
   "metadata": {},
   "outputs": [],
   "source": [
    "import numpy as np\n",
    "import matplotlib.pyplot as plt\n",
    "import pandas as pd\n",
    "import seaborn as sns"
   ]
  },
  {
   "cell_type": "code",
   "execution_count": 6,
   "id": "cd28c7c0",
   "metadata": {},
   "outputs": [],
   "source": [
    "# initialize params\n",
    "seed = 294\n",
    "\n",
    "num_iters = 1\n",
    "T = 500  # time horizon\n",
    "n = 50   # num historical samples\n",
    "delta = 0.1\n",
    "alpha = 0 # percentage of time to pull arm 0\n",
    "mean_arms = [.5, .5-delta]  # note: arm 0 always better\n",
    "n_arms = len(mean_arms)"
   ]
  },
  {
   "cell_type": "code",
   "execution_count": 7,
   "id": "bb882d8e",
   "metadata": {},
   "outputs": [
    {
     "name": "stdout",
     "output_type": "stream",
     "text": [
      "----------------------------\n",
      "Stats from online algorithm\n",
      "  # pulls of each arm in historical data:     [ 0 50]\n",
      "  Percentage of trials entire dataset used:   100.0\n",
      "  Average percentage of historical data used: 100.00\n"
     ]
    },
    {
     "name": "stderr",
     "output_type": "stream",
     "text": [
      "/home/sean/anaconda3/envs/warm_start/lib/python3.8/site-packages/numpy/core/fromnumeric.py:3440: RuntimeWarning: Mean of empty slice.\n",
      "  return _methods._mean(a, axis=axis, dtype=dtype,\n",
      "/home/sean/anaconda3/envs/warm_start/lib/python3.8/site-packages/numpy/core/_methods.py:189: RuntimeWarning: invalid value encountered in double_scalars\n",
      "  ret = ret.dtype.type(ret / rcount)\n"
     ]
    }
   ],
   "source": [
    "np.random.seed(seed)\n",
    "regret_data = []\n",
    "\n",
    "def generate_dataset(n, alpha):\n",
    "    \"\"\" generate historical samples \"\"\"\n",
    "    dataset = {'0': [], '1': []}\n",
    "    for _ in range(int(alpha*n)):\n",
    "        dataset['0'].append(np.random.binomial(p=mean_arms[0], n=1))\n",
    "    for _ in range(n - int(alpha*n)):\n",
    "        dataset['1'].append(np.random.binomial(p=mean_arms[1], n=1))\n",
    "    return dataset\n",
    "\n",
    "def conf_r(t, n_pulls):\n",
    "    \"\"\" compute confidence radius \"\"\"\n",
    "#     return np.sqrt(2*np.log(1+t) / n_pulls)\n",
    "    return np.sqrt(2*np.log(1+T) / n_pulls)\n",
    "    \n",
    "\n",
    "online_use_all_data_count = 0.0\n",
    "online_data_use_percentage = []\n",
    "\n",
    "algo_list = ['simple', 'online']\n",
    "\n",
    "# simple algorithm (Thorsten 2012)\n",
    "# basic UCB: no historical data\n",
    "# online algorithm: Christina's\n",
    "\n",
    "for i in range(num_iters):\n",
    "    \n",
    "    dataset = generate_dataset(n, alpha)\n",
    "    online_samples = generate_dataset(2*T, .5) # gets samples which are used for the \"online\" samples\n",
    "    \n",
    "    # initialize counters\n",
    "    online_data_index   = np.asarray([0,0]) # index of wrapper algorithm in historical samples\n",
    "    online_regret_index = 0 # index of wrapper algorithm for using online samples\n",
    "    \n",
    "    regret = {}\n",
    "    mean   = {}\n",
    "    select = {}\n",
    "    algo_index = {'simple': [0,0], 'no_history': [0,0], 'online': [0,0]} # index of algorithms in online samples\n",
    "    \n",
    "    for algo in algo_list:\n",
    "        \n",
    "        regret[algo] = 0\n",
    "        mean[algo]   = np.asarray([0.0, 0.0])\n",
    "        select[algo] = np.asarray([0, 0])\n",
    "    \n",
    "        mean['simple']   = np.asarray([max(0.0, np.mean(dataset['0'])), max(0.0, np.mean(dataset['1']))])\n",
    "        select['simple'] = np.asarray([len(dataset['0']), len(dataset['1'])])\n",
    "    \n",
    "    for t in range(T+n):\n",
    "        for algo in algo_list:   \n",
    "            \n",
    "            if np.sum(algo_index[algo]) < T: # not finished yet in the experiment\n",
    "            \n",
    "            # -----------------------------------\n",
    "            # pick arm to pull\n",
    "            # -----------------------------------\n",
    "                ucb = np.asarray([mean[algo][arm] + conf_r(np.sum(algo_index[algo])+1, select[algo][arm]) \\\n",
    "                                      if select[algo][arm] > 0 else np.inf for arm in range(n_arms)])\n",
    "                \n",
    "                arm = np.argmax(ucb)\n",
    "                select[algo][arm] += 1\n",
    "\n",
    "                if algo == 'online':\n",
    "                    # if we haven't used all offline samples of the chosen arm\n",
    "                    if online_data_index[arm] < len(dataset[str(arm)]):\n",
    "                        obs = dataset[str(arm)][online_data_index[arm]]\n",
    "                        mean[algo][arm] = (mean[algo][arm] * select[algo][arm] + obs) / (select[algo][arm]+1)\n",
    "                        online_data_index[arm] += 1\n",
    "                        continue\n",
    "                    # if we HAVE used all offline samples of the chosen arm\n",
    "                    else:\n",
    "                        online_regret_index += 1\n",
    "\n",
    "                # -----------------------------------\n",
    "                # get observation and record\n",
    "                # -----------------------------------\n",
    "                regret[algo] += mean_arms[0] - mean_arms[arm]\n",
    "                regret_data.append({'Algo': algo, 'Iter': i, 't': np.sum(algo_index[algo]), 'Regret': regret[algo]})\n",
    "                obs = online_samples[str(arm)][algo_index[algo][arm]]\n",
    "                algo_index[algo][arm] += 1\n",
    "                mean[algo][arm] = (mean[algo][arm]*select[algo][arm] + obs) / (select[algo][arm]+1)\n",
    "\n",
    "            \n",
    "    # meta trackers on behavior of online algorithm\n",
    "    if online_data_index[0] == len(dataset['0']) and online_data_index[1] == len(dataset['1']):\n",
    "        online_use_all_data_count += 1\n",
    "    \n",
    "    online_data_use_percentage.append((online_data_index[0] + online_data_index[1]) / n)\n",
    "\n",
    "print('----------------------------')\n",
    "print('Stats from online algorithm')\n",
    "print(f'  # pulls of each arm in historical data:     {online_data_index}')\n",
    "print(f'  Percentage of trials entire dataset used:   {100 * online_use_all_data_count / num_iters}')\n",
    "print(f'  Average percentage of historical data used: {100*np.mean(online_data_use_percentage):.2f}')"
   ]
  },
  {
   "cell_type": "code",
   "execution_count": null,
   "id": "649b8a34",
   "metadata": {},
   "outputs": [],
   "source": []
  },
  {
   "cell_type": "code",
   "execution_count": 8,
   "id": "4944d4e5",
   "metadata": {},
   "outputs": [
    {
     "name": "stdout",
     "output_type": "stream",
     "text": [
      "<bound method NDFrame.tail of        Algo  Iter    t  Regret\n",
      "0    simple     0    0     0.0\n",
      "1    online     0    0     0.0\n",
      "2    simple     0    1     0.0\n",
      "3    simple     0    2     0.0\n",
      "4    simple     0    3     0.0\n",
      "..      ...   ...  ...     ...\n",
      "995  online     0  495    16.4\n",
      "996  online     0  496    16.4\n",
      "997  online     0  497    16.4\n",
      "998  online     0  498    16.4\n",
      "999  online     0  499    16.4\n",
      "\n",
      "[1000 rows x 4 columns]>\n"
     ]
    },
    {
     "data": {
      "text/plain": [
       "Text(0.5, 1.0, 'n = 50, delta = 0.1, alpha = 0')"
      ]
     },
     "execution_count": 8,
     "metadata": {},
     "output_type": "execute_result"
    },
    {
     "data": {
      "image/png": "[encoded data removed]",
      "text/plain": [
       "<Figure size 432x288 with 1 Axes>"
      ]
     },
     "metadata": {
      "needs_background": "light"
     },
     "output_type": "display_data"
    }
   ],
   "source": [
    "df = pd.DataFrame(regret_data)\n",
    "print(df.tail)\n",
    "p = sns.lineplot(data = df, x=\"t\", y=\"Regret\", hue=\"Algo\", ci=None) #, ci=\"sd\")\n",
    "p.set_title(f\"n = {n}, delta = {delta}, alpha = {alpha}\") \n"
   ]
  }
 ],
 "metadata": {
  "kernelspec": {
   "display_name": "Python 3 (ipykernel)",
   "language": "python",
   "name": "python3"
  },
  "language_info": {
   "codemirror_mode": {
    "name": "ipython",
    "version": 3
   },
   "file_extension": ".py",
   "mimetype": "text/x-python",
   "name": "python",
   "nbconvert_exporter": "python",
   "pygments_lexer": "ipython3",
   "version": "3.8.12"
  }
 },
 "nbformat": 4,
 "nbformat_minor": 5
}
