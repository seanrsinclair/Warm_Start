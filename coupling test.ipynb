{
 "cells": [
  {
   "cell_type": "code",
   "execution_count": 19,
   "id": "4b387d59",
   "metadata": {},
   "outputs": [],
   "source": [
    "import numpy as np\n",
    "import matplotlib.pyplot as plt\n",
    "import pandas as pd\n",
    "import seaborn as sns"
   ]
  },
  {
   "cell_type": "code",
   "execution_count": 23,
   "id": "a7dcfed0",
   "metadata": {},
   "outputs": [],
   "source": [
    "# initialize params\n",
    "seed = 151\n",
    "\n",
    "num_iters = 50\n",
    "T = 2000  # time horizon\n",
    "n = 50  # num historical samples\n",
    "delta = 0.3\n",
    "alpha = 0 # percentage of time to pull arm 0\n",
    "mean_arms = [.5, .5-delta]  # note: arm 0 always better\n",
    "n_arms = len(mean_arms)\n",
    "\n",
    "RANDOM_REWARD = True\n",
    "DEBUG = False\n",
    "NON_DECREASING_UCB = True"
   ]
  },
  {
   "cell_type": "code",
   "execution_count": 24,
   "id": "2f638864",
   "metadata": {},
   "outputs": [
    {
     "name": "stderr",
     "output_type": "stream",
     "text": [
      "/home/sean/anaconda3/envs/warm_start/lib/python3.8/site-packages/numpy/core/fromnumeric.py:3440: RuntimeWarning: Mean of empty slice.\n",
      "  return _methods._mean(a, axis=axis, dtype=dtype,\n",
      "/home/sean/anaconda3/envs/warm_start/lib/python3.8/site-packages/numpy/core/_methods.py:189: RuntimeWarning: invalid value encountered in double_scalars\n",
      "  ret = ret.dtype.type(ret / rcount)\n"
     ]
    },
    {
     "name": "stdout",
     "output_type": "stream",
     "text": [
      "----------------------------\n",
      "Stats from online algorithm\n",
      "  # pulls of each arm in historical data:     [ 0 50]\n",
      "  Percentage of trials entire dataset used:   100.0\n",
      "  Average percentage of historical data used: 100.00\n"
     ]
    }
   ],
   "source": [
    "np.random.seed(seed)\n",
    "regret_data = []\n",
    "\n",
    "def generate_dataset(n, alpha):\n",
    "    \"\"\" generate historical samples \"\"\"\n",
    "    dataset = {'0': [], '1': []}\n",
    "    for _ in range(int(alpha*n)):\n",
    "        if RANDOM_REWARD: dataset['0'].append(np.random.binomial(p=mean_arms[0], n=1))\n",
    "        if not RANDOM_REWARD: dataset['0'].append(mean_arms[0])\n",
    "    for _ in range(n - int(alpha*n)):\n",
    "        if RANDOM_REWARD: dataset['1'].append(np.random.binomial(p=mean_arms[1], n=1))\n",
    "        if not RANDOM_REWARD: dataset['1'].append(mean_arms[1])\n",
    "    return dataset\n",
    "\n",
    "def conf_r(t, n_pulls):\n",
    "    \"\"\" compute confidence radius \"\"\"\n",
    "#     return np.sqrt(2*np.log(1+T) / n_pulls)\n",
    "    return np.sqrt(2*np.log(1+T) / n_pulls)\n",
    "    \n",
    "\n",
    "online_use_all_data_count = 0.0\n",
    "online_data_use_percentage = []\n",
    "\n",
    "algo_list = ['simple', 'online']\n",
    "# algo_list = ['online']\n",
    "\n",
    "# simple algorithm (Thorsten 2012)\n",
    "# online algorithm: Wrapper of prototypical UCB algorithm\n",
    "\n",
    "for i in range(num_iters):\n",
    "    \n",
    "    dataset = generate_dataset(n, alpha) # historical dataset\n",
    "    online_samples = generate_dataset(2*T, .5) # gets samples which are used for the \"online\" samples\n",
    "    if DEBUG: print(f'Dataset: {dataset}')\n",
    "    if DEBUG: print(f'Online Dataset: {online_samples}')\n",
    "\n",
    "    \n",
    "    # initialize counters\n",
    "    offline_data_index   = np.asarray([0,0]) # index of wrapper algorithm in historical samples\n",
    "    \n",
    "    regret = {}\n",
    "    mean   = {}\n",
    "    select = {}\n",
    "    ucb = {'simple': [np.inf, np.inf], 'online':[np.inf, np.inf], 'no_history':[np.inf, np.inf]} # ucb index\n",
    "    algo_index = {'simple': [0,0], 'no_history': [0,0], 'online': [0,0]} # total number of samples\n",
    "    \n",
    "    for algo in algo_list: # initializing parameters\n",
    "        \n",
    "        regret[algo] = 0 # updates current regret to be zero\n",
    "        mean[algo]   = np.asarray([0.0, 0.0]) # mean estimates to zero\n",
    "        select[algo] = np.asarray([0, 0]) # selection frequency to zero\n",
    "    \n",
    "        # but the historical samples update the mean / selection to be based on the historical dataset\n",
    "        mean['simple']   = np.asarray([max(0.0, np.mean(dataset['0'])), max(0.0, np.mean(dataset['1']))])\n",
    "        select['simple'] = np.asarray([len(dataset['0']), len(dataset['1'])])\n",
    "    \n",
    "    for t in range(T+n):\n",
    "        for algo in algo_list:   \n",
    "            \n",
    "            if np.sum(algo_index[algo]) < T: # not finished yet in the experiment\n",
    "            \n",
    "            # -----------------------------------\n",
    "            # pick arm to pull\n",
    "            # -----------------------------------\n",
    "                if NON_DECREASING_UCB: # takes min of old UCB estimate and the current one\n",
    "                        # since the UCB values should be non-increasing\n",
    "                    new_ucb = np.asarray([mean[algo][arm] + conf_r(np.sum(select[algo]), select[algo][arm]) \\\n",
    "                                      if select[algo][arm] > 0 else np.inf for arm in range(n_arms)])\n",
    "                    ucb[algo] = np.minimum(ucb[algo], new_ucb)\n",
    "                else:\n",
    "                    ucb[algo] = np.asarray([mean[algo][arm] + conf_r(np.sum(select[algo]), select[algo][arm]) \\\n",
    "                                      if select[algo][arm] > 0 else np.inf for arm in range(n_arms)])\n",
    "                \n",
    "                arm = np.argmax(ucb[algo])\n",
    "\n",
    "                if DEBUG: print(f'Algo: {algo}, UCB: {ucb[algo]}, arm: {arm}')\n",
    "\n",
    "                if algo == 'online' and offline_data_index[arm] < len(dataset[str(arm)]):\n",
    "                    if DEBUG: print('Online Using Historical Sample')\n",
    "                    # if we haven't used all offline samples of the chosen arm\n",
    "                    obs = dataset[str(arm)][offline_data_index[arm]]\n",
    "                    mean[algo][arm] = (mean[algo][arm] * select[algo][arm] + obs) / (select[algo][arm]+1)\n",
    "                    offline_data_index[arm] += 1\n",
    "                    select[algo][arm] += 1\n",
    "                    continue # do not penalize regret or use an online sample\n",
    "                    \n",
    "                # -----------------------------------\n",
    "                # get observation and record\n",
    "                # -----------------------------------\n",
    "                regret[algo] += mean_arms[0] - mean_arms[arm]\n",
    "                regret_data.append({'Algo': algo, 'Iter': i, 't': np.sum(algo_index[algo]), 'Arm': arm, 'Regret': regret[algo]})\n",
    "                obs = online_samples[str(arm)][algo_index[algo][arm]]\n",
    "                algo_index[algo][arm] += 1\n",
    "                mean[algo][arm] = (mean[algo][arm]*select[algo][arm] + obs) / (select[algo][arm]+1)\n",
    "                select[algo][arm] += 1\n",
    "            \n",
    "    # meta trackers on behavior of online algorithm\n",
    "    if offline_data_index[0] == len(dataset['0']) and offline_data_index[1] == len(dataset['1']):\n",
    "        online_use_all_data_count += 1\n",
    "    \n",
    "    online_data_use_percentage.append((offline_data_index[0] + offline_data_index[1]) / n)\n",
    "\n",
    "print('----------------------------')\n",
    "print('Stats from online algorithm')\n",
    "print(f'  # pulls of each arm in historical data:     {offline_data_index}')\n",
    "print(f'  Percentage of trials entire dataset used:   {100 * online_use_all_data_count / num_iters}')\n",
    "print(f'  Average percentage of historical data used: {100*np.mean(online_data_use_percentage):.2f}')"
   ]
  },
  {
   "cell_type": "code",
   "execution_count": 25,
   "id": "5ec93122",
   "metadata": {},
   "outputs": [
    {
     "name": "stdout",
     "output_type": "stream",
     "text": [
      "<bound method NDFrame.tail of           Algo  Iter     t  Arm  Regret\n",
      "0       simple     0     0    0     0.0\n",
      "1       online     0     0    0     0.0\n",
      "2       simple     0     1    0     0.0\n",
      "3       simple     0     2    0     0.0\n",
      "4       online     0     1    0     0.0\n",
      "...        ...   ...   ...  ...     ...\n",
      "199995  online    49  1995    0    20.4\n",
      "199996  online    49  1996    0    20.4\n",
      "199997  online    49  1997    0    20.4\n",
      "199998  online    49  1998    0    20.4\n",
      "199999  online    49  1999    0    20.4\n",
      "\n",
      "[200000 rows x 5 columns]>\n"
     ]
    },
    {
     "data": {
      "text/plain": [
       "Text(0.5, 1.0, 'n = 50, delta = 0.3, alpha = 0')"
      ]
     },
     "execution_count": 25,
     "metadata": {},
     "output_type": "execute_result"
    },
    {
     "data": {
      "image/png": "[encoded data removed]",
      "text/plain": [
       "<Figure size 432x288 with 1 Axes>"
      ]
     },
     "metadata": {
      "needs_background": "light"
     },
     "output_type": "display_data"
    }
   ],
   "source": [
    "df = pd.DataFrame(regret_data)\n",
    "print(df.tail)\n",
    "p = sns.lineplot(data = df, x=\"t\", y=\"Regret\", hue=\"Algo\", ci=None) #, ci=\"sd\")\n",
    "p.set_title(f\"n = {n}, delta = {delta}, alpha = {alpha}\") \n"
   ]
  }
 ],
 "metadata": {
  "kernelspec": {
   "display_name": "Python 3 (ipykernel)",
   "language": "python",
   "name": "python3"
  },
  "language_info": {
   "codemirror_mode": {
    "name": "ipython",
    "version": 3
   },
   "file_extension": ".py",
   "mimetype": "text/x-python",
   "name": "python",
   "nbconvert_exporter": "python",
   "pygments_lexer": "ipython3",
   "version": "3.8.12"
  }
 },
 "nbformat": 4,
 "nbformat_minor": 5
}
