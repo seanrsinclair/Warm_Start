{
 "cells": [
  {
   "cell_type": "code",
   "execution_count": 1,
   "id": "4b387d59",
   "metadata": {},
   "outputs": [],
   "source": [
    "import numpy as np\n",
    "import matplotlib.pyplot as plt\n",
    "import pandas as pd\n",
    "import seaborn as sns"
   ]
  },
  {
   "cell_type": "code",
   "execution_count": 2,
   "id": "a7dcfed0",
   "metadata": {},
   "outputs": [],
   "source": [
    "# initialize params\n",
    "seed = 152\n",
    "\n",
    "num_iters = 25\n",
    "T = 200  # time horizon\n",
    "n = 5  # num historical samples\n",
    "delta = 0.3\n",
    "alpha = 0 # percentage of time to pull arm 0\n",
    "mean_arms = [.5, .5-delta]  # note: arm 0 always better\n",
    "n_arms = len(mean_arms)\n",
    "\n",
    "RANDOM_REWARD = True\n",
    "DEBUG = False\n",
    "NON_DECREASING_UCB = True"
   ]
  },
  {
   "cell_type": "code",
   "execution_count": 3,
   "id": "2f638864",
   "metadata": {},
   "outputs": [
    {
     "name": "stderr",
     "output_type": "stream",
     "text": [
      "C:\\Users\\Sean Sinclair\\AppData\\Local\\conda\\conda\\envs\\warm_start\\lib\\site-packages\\numpy\\core\\fromnumeric.py:3441: RuntimeWarning: Mean of empty slice.\n",
      "  out=out, **kwargs)\n",
      "C:\\Users\\Sean Sinclair\\AppData\\Local\\conda\\conda\\envs\\warm_start\\lib\\site-packages\\numpy\\core\\_methods.py:189: RuntimeWarning: invalid value encountered in double_scalars\n",
      "  ret = ret.dtype.type(ret / rcount)\n"
     ]
    },
    {
     "name": "stdout",
     "output_type": "stream",
     "text": [
      "----------------------------\n",
      "Stats from online algorithm\n",
      "  # pulls of each arm in historical data:     [0 5]\n",
      "  Percentage of trials entire dataset used:   100.0\n",
      "  Average percentage of historical data used: 100.00\n"
     ]
    }
   ],
   "source": [
    "np.random.seed(seed)\n",
    "regret_data = []\n",
    "\n",
    "def generate_dataset(n, alpha):\n",
    "    \"\"\" generate historical samples \"\"\"\n",
    "    dataset = {'0': [], '1': []}\n",
    "    for _ in range(int(alpha*n)):\n",
    "        if RANDOM_REWARD: dataset['0'].append(np.random.binomial(p=mean_arms[0], n=1))\n",
    "        if not RANDOM_REWARD: dataset['0'].append(mean_arms[0])\n",
    "    for _ in range(n - int(alpha*n)):\n",
    "        if RANDOM_REWARD: dataset['1'].append(np.random.binomial(p=mean_arms[1], n=1))\n",
    "        if not RANDOM_REWARD: dataset['1'].append(mean_arms[1])\n",
    "    return dataset\n",
    "\n",
    "def conf_r(t, n_pulls):\n",
    "    \"\"\" compute confidence radius \"\"\"\n",
    "    return np.sqrt(2*np.log(1+t) / n_pulls)\n",
    "#     return np.sqrt(2*np.log(1+T) / n_pulls)\n",
    "    \n",
    "\n",
    "online_use_all_data_count = 0.0\n",
    "online_data_use_percentage = []\n",
    "\n",
    "algo_list = ['simple', 'online']\n",
    "# algo_list = ['online']\n",
    "\n",
    "# simple algorithm (Thorsten 2012)\n",
    "# online algorithm: Wrapper of prototypical UCB algorithm\n",
    "\n",
    "for i in range(num_iters):\n",
    "    \n",
    "    dataset = generate_dataset(n, alpha) # historical dataset\n",
    "    online_samples = generate_dataset(2*T, .5) # gets samples which are used for the \"online\" samples\n",
    "    if DEBUG: print(f'Dataset: {dataset}')\n",
    "    if DEBUG: print(f'Online Dataset: {online_samples}')\n",
    "\n",
    "    \n",
    "    # initialize counters\n",
    "    offline_data_index   = np.asarray([0,0]) # index of wrapper algorithm in historical samples\n",
    "    \n",
    "    regret = {}\n",
    "    mean   = {}\n",
    "    select = {}\n",
    "    ucb = {'simple': [np.inf, np.inf], 'online':[np.inf, np.inf], 'no_history':[np.inf, np.inf]} # ucb index\n",
    "    algo_index = {'simple': [0,0], 'no_history': [0,0], 'online': [0,0]} # total number of samples\n",
    "    \n",
    "    for algo in algo_list: # initializing parameters\n",
    "        \n",
    "        regret[algo] = 0 # updates current regret to be zero\n",
    "        mean[algo]   = np.asarray([0.0, 0.0]) # mean estimates to zero\n",
    "        select[algo] = np.asarray([0, 0]) # selection frequency to zero\n",
    "    \n",
    "        # but the historical samples update the mean / selection to be based on the historical dataset\n",
    "        mean['simple']   = np.asarray([max(0.0, np.mean(dataset['0'])), max(0.0, np.mean(dataset['1']))])\n",
    "        select['simple'] = np.asarray([len(dataset['0']), len(dataset['1'])])\n",
    "    \n",
    "    for t in range(T+n):\n",
    "        for algo in algo_list:   \n",
    "            \n",
    "            if np.sum(algo_index[algo]) < T: # not finished yet in the experiment\n",
    "            \n",
    "            # -----------------------------------\n",
    "            # pick arm to pull\n",
    "            # -----------------------------------\n",
    "                if NON_DECREASING_UCB: # takes min of old UCB estimate and the current one\n",
    "                        # since the UCB values should be non-increasing\n",
    "                    new_ucb = np.asarray([mean[algo][arm] + conf_r(np.sum(select[algo]), select[algo][arm]) \\\n",
    "                                      if select[algo][arm] > 0 else np.inf for arm in range(n_arms)])\n",
    "                    if DEBUG: print(f'Algo: {algo}, New UCB: {new_ucb}')\n",
    "                    ucb[algo] = np.minimum(ucb[algo], new_ucb)\n",
    "                else:\n",
    "                    ucb[algo] = np.asarray([mean[algo][arm] + conf_r(np.sum(select[algo]), select[algo][arm]) \\\n",
    "                                      if select[algo][arm] > 0 else np.inf for arm in range(n_arms)])\n",
    "                \n",
    "                arm = np.argmax(ucb[algo])\n",
    "\n",
    "                if DEBUG: print(f'Algo: {algo}, UCB: {ucb[algo]}, arm: {arm}')\n",
    "\n",
    "                if algo == 'online' and offline_data_index[arm] < len(dataset[str(arm)]):\n",
    "                    if DEBUG: print('Online Using Historical Sample')\n",
    "                    # if we haven't used all offline samples of the chosen arm\n",
    "                    obs = dataset[str(arm)][offline_data_index[arm]]\n",
    "                    mean[algo][arm] = (mean[algo][arm] * select[algo][arm] + obs) / (select[algo][arm]+1)\n",
    "                    offline_data_index[arm] += 1\n",
    "                    select[algo][arm] += 1\n",
    "                    continue # do not penalize regret or use an online sample (not counted in algo_index)\n",
    "                    \n",
    "                # -----------------------------------\n",
    "                # get observation and record\n",
    "                # -----------------------------------\n",
    "                regret[algo] += mean_arms[0] - mean_arms[arm]\n",
    "                regret_data.append({'Algo': algo, 'Iter': i, 't': np.sum(algo_index[algo]), 'Arm': arm, 'Regret': regret[algo]})\n",
    "                obs = online_samples[str(arm)][algo_index[algo][arm]]\n",
    "                \n",
    "                # Update selection frequency, new mean, etc\n",
    "                algo_index[algo][arm] += 1\n",
    "                mean[algo][arm] = (mean[algo][arm]*select[algo][arm] + obs) / (select[algo][arm]+1)\n",
    "                select[algo][arm] += 1\n",
    "            \n",
    "    # meta trackers on behavior of online algorithm\n",
    "    if offline_data_index[0] == len(dataset['0']) and offline_data_index[1] == len(dataset['1']):\n",
    "        online_use_all_data_count += 1\n",
    "    \n",
    "    online_data_use_percentage.append((offline_data_index[0] + offline_data_index[1]) / n)\n",
    "\n",
    "print('----------------------------')\n",
    "print('Stats from online algorithm')\n",
    "print(f'  # pulls of each arm in historical data:     {offline_data_index}')\n",
    "print(f'  Percentage of trials entire dataset used:   {100 * online_use_all_data_count / num_iters}')\n",
    "print(f'  Average percentage of historical data used: {100*np.mean(online_data_use_percentage):.2f}')"
   ]
  },
  {
   "cell_type": "code",
   "execution_count": 4,
   "id": "5ec93122",
   "metadata": {
    "scrolled": false
   },
   "outputs": [
    {
     "data": {
      "text/plain": [
       "Text(0.5, 1.0, 'n = 5, delta = 0.3, alpha = 0')"
      ]
     },
     "execution_count": 4,
     "metadata": {},
     "output_type": "execute_result"
    },
    {
     "data": {
      "image/png": "[encoded data removed]",
      "text/plain": [
       "<Figure size 432x288 with 1 Axes>"
      ]
     },
     "metadata": {
      "needs_background": "light"
     },
     "output_type": "display_data"
    }
   ],
   "source": [
    "df = pd.DataFrame(regret_data)\n",
    "p = sns.lineplot(data = df, x=\"t\", y=\"Regret\", hue=\"Algo\", ci=None) #, ci=\"sd\")\n",
    "p.set_title(f\"n = {n}, delta = {delta}, alpha = {alpha}\")\n"
   ]
  },
  {
   "cell_type": "code",
   "execution_count": 5,
   "id": "823da532",
   "metadata": {},
   "outputs": [
    {
     "data": {
      "text/plain": [
       "False"
      ]
     },
     "execution_count": 5,
     "metadata": {},
     "output_type": "execute_result"
    }
   ],
   "source": [
    "np.array_equal(df[df['Algo'] == 'simple']['Regret'].to_numpy(), df[df['Algo'] == 'online']['Regret'].to_numpy())"
   ]
  },
  {
   "cell_type": "code",
   "execution_count": 6,
   "id": "a23ea091",
   "metadata": {},
   "outputs": [
    {
     "data": {
      "text/plain": [
       "(array([   8,    9,  201,  202,  203,  204,  205,  206,  207,  208,  209,\n",
       "         210,  211,  213,  214,  215,  422,  423,  424,  425,  426,  427,\n",
       "         428,  429,  430,  431,  432,  433,  434,  435,  436,  437,  438,\n",
       "         439,  440,  441,  442,  443,  444,  445,  446,  447,  448,  449,\n",
       "         450,  451,  452,  453,  454,  455,  456,  457,  458,  459,  460,\n",
       "         461,  462,  463,  464,  465,  466,  467,  468,  469,  470,  471,\n",
       "         615,  616,  617,  618,  619,  620,  621,  622,  623,  624,  625,\n",
       "         626,  627,  628,  629,  630,  631,  632,  633,  634,  635,  636,\n",
       "         637,  638,  821,  822,  823,  824,  825,  826,  827,  828,  829,\n",
       "         830,  831, 1012, 1013, 1014, 1015, 1016, 1017, 1018, 1019, 1020,\n",
       "        1021, 1022, 1023, 1024, 1025, 1026, 1027, 1028, 1029, 1030, 1031,\n",
       "        1032, 1033, 1034, 1035, 1036, 1037, 1038, 1039, 1040, 1041, 1042,\n",
       "        1043, 1044, 1045, 1046, 1047, 1048, 1049, 1050, 1051, 1052, 1053,\n",
       "        1054, 1055, 1056, 1057, 1058, 1059, 1060, 1061, 1062, 1064, 1065,\n",
       "        1215, 1216, 1217, 1218, 1219, 1220, 1221, 1222, 1223, 1224, 1225,\n",
       "        1226, 1227, 1228, 1229, 1230, 1231, 1232, 1233, 1234, 1235, 1236,\n",
       "        1237, 1238, 1239, 1240, 1241, 1242, 1243, 1244, 1245, 1246, 1247,\n",
       "        1248, 1249, 1250, 1251, 1252, 1253, 1254, 1255, 1256, 1257, 1258,\n",
       "        1259, 1260, 1261, 1262, 1263, 1264, 1265, 1266, 1267, 1268, 1269,\n",
       "        1270, 1271, 1272, 1273, 1274, 1275, 1276, 1277, 1278, 1279, 1280,\n",
       "        1281, 1282, 1283, 1284, 1285, 1286, 1287, 1288, 1289, 1290, 1291,\n",
       "        1292, 1293, 1405, 1406, 1407, 1408, 1409, 1412, 1413, 1414, 1416,\n",
       "        1601, 1602, 1603, 1604, 1605, 1607, 1609, 1611, 1612, 1613, 1614,\n",
       "        1616, 1617, 1804, 1806, 1807, 1808, 1812, 1814, 2008, 2009, 2207,\n",
       "        2208, 2209, 2210, 2211, 2212, 2413, 2414, 2415, 2416, 2417, 2418,\n",
       "        2601, 2602, 2603, 2604, 2605, 2606, 2607, 2608, 2610, 2611, 2612,\n",
       "        2613, 2614, 2615, 2616, 2617, 2618, 2619, 2620, 2621, 2622, 2623,\n",
       "        2624, 2625, 2626, 2627, 2628, 2629, 2630, 2812, 2813, 2814, 2815,\n",
       "        3003, 3004, 3005, 3006, 3007, 3008, 3009, 3010, 3011, 3012, 3013,\n",
       "        3014, 3015, 3016, 3017, 3018, 3019, 3207, 3208, 3209, 3210, 3211,\n",
       "        3212, 3213, 3214, 3215, 3216, 3217, 3218, 3219, 3220, 3421, 3422,\n",
       "        3423, 3424, 3425, 3426, 3427, 3428, 3429, 3430, 3431, 3432, 3433,\n",
       "        3434, 3812, 3813, 3814, 3815, 3816, 3817, 3818, 3819, 3820, 3821,\n",
       "        3822, 3823, 3824, 3825, 3826, 3827, 3828, 3829, 3830, 3831, 3832,\n",
       "        3833, 3834, 3835, 3836, 3837, 3838, 3839, 3840, 3841, 3842, 3843,\n",
       "        3844, 3845, 3847, 3853, 4011, 4012, 4013, 4014, 4015, 4016, 4017,\n",
       "        4018, 4019, 4020, 4021, 4022, 4023, 4024, 4025, 4026, 4027, 4028,\n",
       "        4029, 4030, 4031, 4032, 4033, 4034, 4035, 4036, 4037, 4038, 4039,\n",
       "        4040, 4041, 4042, 4043, 4044, 4045, 4046, 4047, 4048, 4049, 4050,\n",
       "        4051, 4052, 4053, 4054, 4055, 4056, 4057, 4058, 4059, 4060, 4061,\n",
       "        4062, 4063, 4064, 4065, 4066, 4067, 4068, 4069, 4070, 4071, 4072,\n",
       "        4073, 4074, 4075, 4076, 4077, 4078, 4079, 4080, 4081, 4082, 4083,\n",
       "        4084, 4085, 4086, 4087, 4088, 4089, 4090, 4091, 4092, 4093, 4094,\n",
       "        4095, 4096, 4097, 4098, 4099, 4100, 4101, 4102, 4103, 4104, 4105,\n",
       "        4106, 4107, 4108, 4109, 4110, 4111, 4112, 4113, 4114, 4115, 4116,\n",
       "        4117, 4118, 4119, 4120, 4121, 4122, 4123, 4124, 4125, 4126, 4127,\n",
       "        4128, 4129, 4130, 4131, 4132, 4133, 4134, 4135, 4136, 4137, 4138,\n",
       "        4139, 4140, 4141, 4142, 4143, 4144, 4145, 4146, 4147, 4148, 4149,\n",
       "        4150, 4151, 4152, 4153, 4154, 4155, 4156, 4157, 4158, 4159, 4160,\n",
       "        4161, 4162, 4163, 4164, 4165, 4166, 4167, 4168, 4169, 4171, 4172,\n",
       "        4173, 4174, 4175, 4176, 4177, 4178, 4211, 4212, 4213, 4214, 4215,\n",
       "        4216, 4217, 4218, 4219, 4220, 4414, 4415, 4416, 4417, 4418, 4419,\n",
       "        4420, 4421, 4422, 4423, 4424, 4425, 4426, 4427, 4428, 4429, 4430,\n",
       "        4431, 4432, 4433, 4434, 4435, 4436, 4437, 4438, 4439, 4440, 4441,\n",
       "        4442, 4443, 4444, 4445, 4446, 4447, 4448, 4449, 4450, 4451, 4452,\n",
       "        4453, 4454, 4455, 4456, 4457, 4458, 4459, 4460, 4461, 4462, 4463,\n",
       "        4464, 4465, 4466, 4467, 4469, 4618, 4619, 4620, 4621, 4622, 4623,\n",
       "        4624, 4625, 4626, 4627, 4628, 4629, 4630, 4631, 4632, 4633, 4634,\n",
       "        4635, 4636, 4637, 4638, 4639, 4640, 4641, 4642, 4643, 4644, 4645,\n",
       "        4646, 4647, 4648, 4649, 4650, 4651, 4652, 4653, 4654, 4655, 4656,\n",
       "        4657, 4658, 4659, 4660, 4661, 4662, 4663, 4664, 4665, 4666, 4667,\n",
       "        4668, 4669, 4670, 4671, 4672, 4673, 4674, 4675, 4676, 4677, 4678,\n",
       "        4679, 4680, 4681, 4682, 4683, 4684, 4685, 4686, 4687, 4688, 4689,\n",
       "        4690, 4691, 4692, 4693, 4694, 4695, 4696, 4698, 4699, 4700, 4701,\n",
       "        4702, 4703, 4704, 4807, 4808, 4809, 4810, 4811, 4812, 4813, 4814,\n",
       "        4815, 4816, 4817, 4818, 4819, 4820, 4821, 4822, 4823, 4824, 4825,\n",
       "        4826, 4827, 4828, 4829, 4830, 4831, 4832, 4834, 4835, 4836, 4845,\n",
       "        4846, 4847], dtype=int64),)"
      ]
     },
     "execution_count": 6,
     "metadata": {},
     "output_type": "execute_result"
    }
   ],
   "source": [
    "np.where(df[df['Algo'] == 'simple']['Regret'].to_numpy() != df[df['Algo'] == 'online']['Regret'].to_numpy())"
   ]
  }
 ],
 "metadata": {
  "kernelspec": {
   "display_name": "Python 3 (ipykernel)",
   "language": "python",
   "name": "python3"
  },
  "language_info": {
   "codemirror_mode": {
    "name": "ipython",
    "version": 3
   },
   "file_extension": ".py",
   "mimetype": "text/x-python",
   "name": "python",
   "nbconvert_exporter": "python",
   "pygments_lexer": "ipython3",
   "version": "3.7.11"
  }
 },
 "nbformat": 4,
 "nbformat_minor": 5
}
